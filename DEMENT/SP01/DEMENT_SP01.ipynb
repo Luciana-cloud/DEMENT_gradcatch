{
 "cells": [
  {
   "cell_type": "markdown",
   "id": "a05847e8-1049-46af-a6d5-e549bf072290",
   "metadata": {},
   "source": [
    "## DEMENT in parallel"
   ]
  },
  {
   "cell_type": "code",
   "execution_count": 1,
   "id": "f9a7979c-6621-4a1f-910b-fa6c14e601f9",
   "metadata": {},
   "outputs": [],
   "source": [
    "#..Load modules\n",
    "import os\n",
    "import sys\n",
    "import pandas as pd\n",
    "import numpy  as np\n",
    "import matplotlib.pyplot as plt\n",
    "from plotnine import *"
   ]
  },
  {
   "cell_type": "code",
   "execution_count": 2,
   "id": "ab69351c-4c2b-4f63-9754-41e1c44590eb",
   "metadata": {},
   "outputs": [],
   "source": [
    "from initialization import initialize_data\n",
    "from grid import Grid\n",
    "from output import Output\n",
    "from utility import export"
   ]
  },
  {
   "cell_type": "code",
   "execution_count": 3,
   "id": "4ad513fd-73e4-4400-9f9f-6886683b850c",
   "metadata": {},
   "outputs": [],
   "source": [
    "input_folder  = \"input\"   # input folder name\n",
    "#...Set up the working directory\n",
    "os.chdir(input_folder)"
   ]
  },
  {
   "cell_type": "code",
   "execution_count": 4,
   "id": "a9fb18b1-00ca-4867-aa4a-52d8ba60263b",
   "metadata": {},
   "outputs": [],
   "source": [
    "import joblib\n",
    "from joblib import Parallel, delayed"
   ]
  },
  {
   "cell_type": "code",
   "execution_count": 5,
   "id": "fd12860f-a58b-4cf9-b97b-2a9e66d63749",
   "metadata": {},
   "outputs": [],
   "source": [
    "def dement(outname, random_seed):\n",
    "    #outname_t[i]  = \"20220221\" + str(int(i))    # output file name and seed of Pseudo-RNG + \"20220211\"\n",
    "    input_folder  = \"input\"   # input folder name \n",
    "    output_folder = \"output\"  # output folder name\n",
    "    #outname       = outname_t[i]\n",
    "    #outname       = \"20220131\"   # output file name and seed of Pseudo-RNG\n",
    "    #...Set up the working directory\n",
    "    #  os.chdir(input_folder)\n",
    "    #...seed the pseudorandom number generator\n",
    "    np.random.seed(random_seed)\n",
    "\n",
    "    #...a few system constants\n",
    "    runtime    = pd.read_csv('runtime.txt',header=None,index_col=0,sep='\\t')\n",
    "    pulse      = int(runtime.loc['pulse',1])         # number of pulses\n",
    "    cycle      = int(runtime.loc['end_time',1])      # number of time steps in each pulse\n",
    "    interval   = int(runtime.loc['interval',1])      # interval of time step to record outputs\n",
    "    mic_reinit = True    # indicate reinitialization of microbial community\n",
    "\n",
    "    #...Initialize data by calling the Function: Initialize_Data()\n",
    "    data_initialization = initialize_data(runtime)\n",
    "\n",
    "    #...Prepare for output by creating an instance of the Output class\n",
    "    Output_init = Output(runtime,data_initialization)\n",
    "\n",
    "    #...Create an instance of the Grid class\n",
    "    Ecosystem = Grid(runtime,data_initialization)\n",
    "\n",
    "    #...Run the model\n",
    "    for p in range(pulse):\n",
    "    \n",
    "        for i in range(p*cycle, (p+1)*cycle):\n",
    "    \n",
    "            # substrates degradation\n",
    "            Ecosystem.degradation(p,i)\n",
    "\n",
    "            # monomers uptake\n",
    "            Ecosystem.uptake(p,i)\n",
    "\n",
    "            # microbial metabolism\n",
    "            Ecosystem.metabolism(i)\n",
    "\n",
    "            # microbial death\n",
    "            Ecosystem.mortality(i)\n",
    "\n",
    "            # microbial reproduction and dispersal\n",
    "            Ecosystem.reproduction(i)\n",
    "    \n",
    "            # output data using the \"output\" method in the Output class\n",
    "            if i == 0:\n",
    "                Output_init.output(Ecosystem,i)  # day 1\n",
    "            elif i%interval==interval-1:\n",
    "                Output_init.output(Ecosystem,i)  # interval\n",
    "        \n",
    "            # if only 1 pusle, skip all following lines within this loop\n",
    "            #if pulse == 1:\n",
    "            #    continue\n",
    "\n",
    "            # output microbial mass of every iteration using the \"microbes_df\" method in the Output class\n",
    "            Output_init.microbes_abundance(Ecosystem,i)\n",
    "\n",
    "            # re-initialize microbial community in each new pulse\n",
    "            if i == (p+1)*cycle-1:\n",
    "                Ecosystem.repopulation(Output_init,i,mic_reinit)\n",
    "\n",
    "    return Output_init\n",
    "\n",
    "results = Parallel(n_jobs=4)(delayed(dement)(\"20220221\" + str(int(i)),i) for i in range(4))"
   ]
  },
  {
   "cell_type": "markdown",
   "id": "a8cc6c55-1d51-41e7-b31d-899cc0f119ea",
   "metadata": {},
   "source": [
    "## Saving the model output"
   ]
  },
  {
   "cell_type": "code",
   "execution_count": 6,
   "id": "d2628748-3911-4ead-8187-67f1cce4ff03",
   "metadata": {},
   "outputs": [],
   "source": [
    "import pickle\n",
    "output = open('C:/luciana_datos/UCI/Project_14 (Anna)/DEMENT_gradcatch/DEMENT/SP01/output/results_dement.pkl', 'wb')\n",
    "pickle.dump(results, output)\n",
    "output.close()"
   ]
  },
  {
   "cell_type": "markdown",
   "id": "1b318dbc-b825-4b48-bbdf-525caca20755",
   "metadata": {},
   "source": [
    "## Open the pickle output"
   ]
  },
  {
   "cell_type": "code",
   "execution_count": 7,
   "id": "91c2e544-caa0-4dd9-86a5-f0e883957ea8",
   "metadata": {},
   "outputs": [],
   "source": [
    "#import pprint\n",
    "pkl_file = open('C:/luciana_datos/UCI/Project_14 (Anna)/DEMENT_gradcatch/DEMENT/SP01/output/results_dement.pkl', 'rb')\n",
    "test     = pickle.load(pkl_file)\n",
    "pkl_file.close()"
   ]
  },
  {
   "cell_type": "markdown",
   "id": "6e625e12-c7b8-444a-ad56-2237679565e7",
   "metadata": {},
   "source": [
    "## Test Plots"
   ]
  },
  {
   "cell_type": "code",
   "execution_count": 8,
   "id": "4587d4cb-1d19-4a3f-9f13-801efa48c1f5",
   "metadata": {},
   "outputs": [],
   "source": [
    "tt        = np.linspace(0,3,4) # Number of repetitions = 4\n",
    "time      = np.linspace(0,100,100+1)"
   ]
  },
  {
   "cell_type": "markdown",
   "id": "9b9b95b7-5e61-431a-a6e8-95cf465cbeae",
   "metadata": {},
   "source": [
    "### Respiration"
   ]
  },
  {
   "cell_type": "code",
   "execution_count": 9,
   "id": "1ed89cf1-c5fa-45a1-9b25-f103223f990d",
   "metadata": {},
   "outputs": [],
   "source": [
    "respi_base     = []\n",
    "\n",
    "for i in tt:\n",
    "        respi_base.append(test[int(i)].RespSeries)\n",
    "\n",
    "Respi_mean = (np.array(respi_base).mean(axis=0))\n",
    "respiration_5  = np.percentile(respi_base,5,axis=0)\n",
    "respiration_95 = np.percentile(respi_base,95,axis=0)"
   ]
  },
  {
   "cell_type": "code",
   "execution_count": 10,
   "id": "45dfcc31-5297-420c-ae08-856017f88e44",
   "metadata": {},
   "outputs": [
    {
     "name": "stderr",
     "output_type": "stream",
     "text": [
      "C:\\Users\\lucia\\AppData\\Local\\Temp\\ipykernel_8852\\187784392.py:10: UserWarning: FigureCanvasAgg is non-interactive, and thus cannot be shown\n"
     ]
    },
    {
     "data": {
      "image/png": "[encoded data removed]",
      "text/plain": [
       "<Figure size 640x480 with 1 Axes>"
      ]
     },
     "metadata": {},
     "output_type": "display_data"
    }
   ],
   "source": [
    "fig, ax = plt.subplots()\n",
    "\n",
    "ax.fill_between(time,respiration_5,respiration_95, alpha=.5, linewidth=0,label=\"95% CI\")\n",
    "ax.plot(time,Respi_mean, linewidth=2,label=\"Mean\")\n",
    "\n",
    "plt.xlabel('Time (d)') \n",
    "plt.ylabel('Respiration ($mg$ $cm^{-3}$)') \n",
    "plt.title('Total average respiration') \n",
    "ax.legend()\n",
    "fig.show()"
   ]
  },
  {
   "cell_type": "code",
   "execution_count": null,
   "id": "39dbe359-c42f-4695-89e0-5b08f1ba5117",
   "metadata": {},
   "outputs": [],
   "source": []
  }
 ],
 "metadata": {
  "kernelspec": {
   "display_name": "Python 3 (ipykernel)",
   "language": "python",
   "name": "python3"
  },
  "language_info": {
   "codemirror_mode": {
    "name": "ipython",
    "version": 3
   },
   "file_extension": ".py",
   "mimetype": "text/x-python",
   "name": "python",
   "nbconvert_exporter": "python",
   "pygments_lexer": "ipython3",
   "version": "3.12.1"
  }
 },
 "nbformat": 4,
 "nbformat_minor": 5
}
