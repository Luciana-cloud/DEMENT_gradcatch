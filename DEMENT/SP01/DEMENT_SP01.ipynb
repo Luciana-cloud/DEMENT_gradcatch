{
 "cells": [
  {
   "cell_type": "markdown",
   "id": "a05847e8-1049-46af-a6d5-e549bf072290",
   "metadata": {},
   "source": [
    "## DEMENT in parallel"
   ]
  },
  {
   "cell_type": "code",
   "execution_count": 1,
   "id": "f9a7979c-6621-4a1f-910b-fa6c14e601f9",
   "metadata": {},
   "outputs": [],
   "source": [
    "#..Load modules\n",
    "import os\n",
    "import sys\n",
    "import pandas as pd\n",
    "import numpy  as np\n",
    "import matplotlib.pyplot as plt\n",
    "from plotnine import *"
   ]
  },
  {
   "cell_type": "code",
   "execution_count": 2,
   "id": "ab69351c-4c2b-4f63-9754-41e1c44590eb",
   "metadata": {},
   "outputs": [],
   "source": [
    "from initialization_gradcatch import initialize_data\n",
    "from grid_gradcatch import Grid\n",
    "from output_gradcatch import Output\n",
    "from utility import export"
   ]
  },
  {
   "cell_type": "code",
   "execution_count": 3,
   "id": "4ad513fd-73e4-4400-9f9f-6886683b850c",
   "metadata": {},
   "outputs": [],
   "source": [
    "input_folder  = \"input\"   # input folder name\n",
    "#...Set up the working directory\n",
    "os.chdir(input_folder)"
   ]
  },
  {
   "cell_type": "code",
   "execution_count": 4,
   "id": "a9fb18b1-00ca-4867-aa4a-52d8ba60263b",
   "metadata": {},
   "outputs": [],
   "source": [
    "import joblib\n",
    "from joblib import Parallel, delayed"
   ]
  },
  {
   "cell_type": "code",
   "execution_count": 5,
   "id": "63f04bdb-f8ae-4ded-ac5a-09b594d5b9e2",
   "metadata": {},
   "outputs": [],
   "source": [
    "def dement(outname, random_seed):\n",
    "    #outname_t[i]  = \"20220221\" + str(int(i))    # output file name and seed of Pseudo-RNG + \"20220211\"\n",
    "    input_folder  = \"input\"   # input folder name \n",
    "    output_folder = \"output\"  # output folder name\n",
    "    #outname       = outname_t[i]\n",
    "    #outname       = \"20220131\"   # output file name and seed of Pseudo-RNG\n",
    "    #...Set up the working directory\n",
    "    #  os.chdir(input_folder)\n",
    "    #...seed the pseudorandom number generator\n",
    "    np.random.seed(random_seed)\n",
    "\n",
    "    #...a few system constants\n",
    "    runtime    = pd.read_csv('runtime.txt',header=None,index_col=0,sep='\\t')\n",
    "    pulse      = int(runtime.loc['pulse',1])         # number of pulses\n",
    "    cycle      = int(runtime.loc['end_time',1])      # number of time steps in each pulse\n",
    "    interval   = int(runtime.loc['interval',1])      # interval of time step to record outputs\n",
    "    mic_reinit = True    # indicate reinitialization of microbial community\n",
    "\n",
    "    #...Initialize data by calling the Function: Initialize_Data()\n",
    "    data_initialization = initialize_data(runtime)\n",
    "\n",
    "    #...Prepare for output by creating an instance of the Output class\n",
    "    Output_init = Output(runtime,data_initialization)\n",
    "\n",
    "    #...Create an instance of the Grid class\n",
    "    Ecosystem = Grid(runtime,data_initialization)\n",
    "\n",
    "    #...Run the model\n",
    "    for p in range(pulse):\n",
    "        for i in range(p*cycle, (p+1)*cycle):\n",
    "    \n",
    "            # substrates degradation\n",
    "            Ecosystem.degradation(p,i)\n",
    "\n",
    "            # monomers uptake\n",
    "            Ecosystem.uptake(p,i)\n",
    "\n",
    "            # microbial metabolism\n",
    "            Ecosystem.metabolism(i)\n",
    "\n",
    "            # microbial death\n",
    "            Ecosystem.mortality(i)\n",
    "\n",
    "            # microbial reproduction and dispersal\n",
    "            Ecosystem.reproduction(i)\n",
    "    \n",
    "            # output data using the \"output\" method in the Output class\n",
    "            if i == 0:\n",
    "                Output_init.output(Ecosystem,i)  # day 1\n",
    "            elif i%interval==interval-1:\n",
    "                Output_init.output(Ecosystem,i)  # interval\n",
    "        \n",
    "            # if only 1 pusle, skip all following lines within this loop\n",
    "            #if pulse == 1:\n",
    "            #    continue\n",
    "\n",
    "            # output microbial mass of every iteration using the \"microbes_df\" method in the Output class\n",
    "            Output_init.microbes_abundance(Ecosystem,i)\n",
    "\n",
    "            # re-initialize microbial community in each new pulse\n",
    "            if i == (p+1)*cycle-1:\n",
    "                Ecosystem.repopulation(Output_init,i,mic_reinit)\n",
    "\n",
    "    return Output_init\n",
    "\n",
    "results = Parallel(n_jobs=2)(delayed(dement)(\"20240331\" + str(int(i)),i) for i in range(2))"
   ]
  },
  {
   "cell_type": "code",
   "execution_count": 6,
   "id": "d2628748-3911-4ead-8187-67f1cce4ff03",
   "metadata": {},
   "outputs": [],
   "source": [
    "import pickle\n",
    "output = open('C:/luciana_datos/UCI/Project_14 (Anna)/DEMENT_gradcatch/DEMENT/SP01/output/results_dement_1.pkl', 'wb')\n",
    "pickle.dump(results, output)\n",
    "output.close()"
   ]
  },
  {
   "cell_type": "markdown",
   "id": "1b318dbc-b825-4b48-bbdf-525caca20755",
   "metadata": {},
   "source": [
    "## Open the pickle output"
   ]
  },
  {
   "cell_type": "code",
   "execution_count": 7,
   "id": "91c2e544-caa0-4dd9-86a5-f0e883957ea8",
   "metadata": {},
   "outputs": [],
   "source": [
    "#import \n",
    "import pickle\n",
    "pkl_file = open('C:/luciana_datos/UCI/Project_14 (Anna)/DEMENT_gradcatch/DEMENT/SP01/output/results_dement_1.pkl', 'rb')\n",
    "test     = pickle.load(pkl_file)\n",
    "pkl_file.close()"
   ]
  },
  {
   "cell_type": "markdown",
   "id": "6e625e12-c7b8-444a-ad56-2237679565e7",
   "metadata": {},
   "source": [
    "## Test Plots"
   ]
  },
  {
   "cell_type": "code",
   "execution_count": 8,
   "id": "4587d4cb-1d19-4a3f-9f13-801efa48c1f5",
   "metadata": {},
   "outputs": [],
   "source": [
    "tt        = np.linspace(0,1,2) # Number of repetitions = 4\n",
    "time      = np.linspace(0,365*2,365*2+1)"
   ]
  },
  {
   "cell_type": "markdown",
   "id": "9b9b95b7-5e61-431a-a6e8-95cf465cbeae",
   "metadata": {},
   "source": [
    "### Respiration"
   ]
  },
  {
   "cell_type": "code",
   "execution_count": 9,
   "id": "1ed89cf1-c5fa-45a1-9b25-f103223f990d",
   "metadata": {},
   "outputs": [],
   "source": [
    "respi_base     = []\n",
    "\n",
    "for i in tt:\n",
    "        respi_base.append(test[int(i)].RespSeries)\n",
    "\n",
    "Respi_mean = (np.array(respi_base).mean(axis=0))\n",
    "respiration_5  = np.percentile(respi_base,5,axis=0)\n",
    "respiration_95 = np.percentile(respi_base,95,axis=0)"
   ]
  },
  {
   "cell_type": "code",
   "execution_count": 10,
   "id": "45dfcc31-5297-420c-ae08-856017f88e44",
   "metadata": {},
   "outputs": [
    {
     "name": "stderr",
     "output_type": "stream",
     "text": [
      "C:\\Users\\lucia\\AppData\\Local\\Temp\\ipykernel_16468\\187784392.py:10: UserWarning: FigureCanvasAgg is non-interactive, and thus cannot be shown\n"
     ]
    },
    {
     "data": {
      "image/png": "[encoded data removed]",
      "text/plain": [
       "<Figure size 640x480 with 1 Axes>"
      ]
     },
     "metadata": {},
     "output_type": "display_data"
    }
   ],
   "source": [
    "fig, ax = plt.subplots()\n",
    "\n",
    "ax.fill_between(time,respiration_5,respiration_95, alpha=.5, linewidth=0,label=\"95% CI\")\n",
    "ax.plot(time,Respi_mean, linewidth=2,label=\"Mean\")\n",
    "\n",
    "plt.xlabel('Time (d)') \n",
    "plt.ylabel('Respiration ($mg$ $cm^{-3}$)') \n",
    "plt.title('Total average respiration') \n",
    "ax.legend()\n",
    "fig.show()"
   ]
  },
  {
   "cell_type": "code",
   "execution_count": 11,
   "id": "19c142f7-d624-4684-969b-02f03352e2a0",
   "metadata": {},
   "outputs": [],
   "source": [
    "Subst_tot = []\n",
    "\n",
    "for i in tt:\n",
    "    Subst_tot.append(test[int(i)].SubstratesSeries)\n",
    "\n",
    "Sub_sum     = np.mean((np.array(Subst_tot).sum(axis=1)),axis=0)\n",
    "Sub_05      = np.percentile((np.array(Subst_tot).sum(axis=1)),5,axis=0)\n",
    "Sub_95      = np.percentile((np.array(Subst_tot).sum(axis=1)),95,axis=0)"
   ]
  },
  {
   "cell_type": "code",
   "execution_count": 12,
   "id": "31108be7-817a-448f-a539-364559a73182",
   "metadata": {},
   "outputs": [
    {
     "name": "stderr",
     "output_type": "stream",
     "text": [
      "C:\\Users\\lucia\\AppData\\Local\\Temp\\ipykernel_16468\\3386710776.py:10: UserWarning: FigureCanvasAgg is non-interactive, and thus cannot be shown\n"
     ]
    },
    {
     "data": {
      "image/png": "[encoded data removed]",
      "text/plain": [
       "<Figure size 640x480 with 1 Axes>"
      ]
     },
     "metadata": {},
     "output_type": "display_data"
    }
   ],
   "source": [
    "fig, ax = plt.subplots()\n",
    "\n",
    "ax.fill_between(time,Sub_05/100,Sub_95/100, alpha=.5, linewidth=0,label=\"95% CI\")\n",
    "ax.plot(time,Sub_sum/100, linewidth=2,label=\"Mean\")\n",
    "\n",
    "plt.xlabel('Time (d)') \n",
    "plt.ylabel('Total substrate concentration ($mg$ $cm^{-3}$)') \n",
    "plt.title('Total average substrate concentration') \n",
    "ax.legend(loc=\"lower left\")\n",
    "fig.show()"
   ]
  },
  {
   "cell_type": "code",
   "execution_count": 22,
   "id": "17c03c88-45b4-48b2-aca2-5e1e58a204ee",
   "metadata": {},
   "outputs": [
    {
     "data": {
      "text/plain": [
       "97.58291304970527"
      ]
     },
     "execution_count": 22,
     "metadata": {},
     "output_type": "execute_result"
    }
   ],
   "source": [
    "(Sub_05[0]/100-Sub_05[365*2]/100)*100/(Sub_05[0]/100)"
   ]
  },
  {
   "cell_type": "code",
   "execution_count": 21,
   "id": "d6528027-48a8-4546-b8a5-a7e9e020fc14",
   "metadata": {},
   "outputs": [
    {
     "data": {
      "text/plain": [
       "131.4806398313504"
      ]
     },
     "execution_count": 21,
     "metadata": {},
     "output_type": "execute_result"
    }
   ],
   "source": [
    "Sub_95[365*2]/100"
   ]
  },
  {
   "cell_type": "code",
   "execution_count": 16,
   "id": "bd5b414a-61b8-4e38-8ffb-7ab0924319f0",
   "metadata": {},
   "outputs": [
    {
     "data": {
      "text/plain": [
       "0.09"
      ]
     },
     "execution_count": 16,
     "metadata": {},
     "output_type": "execute_result"
    }
   ],
   "source": [
    "parameters      = pd.read_csv('parameters_cellulose_1.csv',header=None, index_col=0).astype('float32')\n",
    "parameters.loc[\"Init_NH4\",1]"
   ]
  },
  {
   "cell_type": "code",
   "execution_count": 8,
   "id": "0ac4584a-3755-483c-b1df-8aad83f627e7",
   "metadata": {},
   "outputs": [
    {
     "data": {
      "text/html": [
       "<div>\n",
       "<style scoped>\n",
       "    .dataframe tbody tr th:only-of-type {\n",
       "        vertical-align: middle;\n",
       "    }\n",
       "\n",
       "    .dataframe tbody tr th {\n",
       "        vertical-align: top;\n",
       "    }\n",
       "\n",
       "    .dataframe thead th {\n",
       "        text-align: right;\n",
       "    }\n",
       "</style>\n",
       "<table border=\"1\" class=\"dataframe\">\n",
       "  <thead>\n",
       "    <tr style=\"text-align: right;\">\n",
       "      <th></th>\n",
       "      <th>NH4</th>\n",
       "      <th>PO4</th>\n",
       "      <th>DeadMic</th>\n",
       "      <th>DeadEnz</th>\n",
       "      <th>Mon3</th>\n",
       "      <th>Mon4</th>\n",
       "      <th>Mon5</th>\n",
       "      <th>Mon6</th>\n",
       "      <th>Mon7</th>\n",
       "      <th>Mon8</th>\n",
       "      <th>Mon9</th>\n",
       "      <th>Mon10</th>\n",
       "      <th>Mon11</th>\n",
       "      <th>Mon12</th>\n",
       "    </tr>\n",
       "  </thead>\n",
       "  <tbody>\n",
       "    <tr>\n",
       "      <th>0</th>\n",
       "      <td>0.0</td>\n",
       "      <td>0.0</td>\n",
       "      <td>0.000000</td>\n",
       "      <td>0.000000e+00</td>\n",
       "      <td>0.000000</td>\n",
       "      <td>0.000000</td>\n",
       "      <td>0.000000</td>\n",
       "      <td>0.000000</td>\n",
       "      <td>0.000000</td>\n",
       "      <td>0.000000</td>\n",
       "      <td>0.000000</td>\n",
       "      <td>0.000000</td>\n",
       "      <td>0.000000</td>\n",
       "      <td>0.000000</td>\n",
       "    </tr>\n",
       "    <tr>\n",
       "      <th>1</th>\n",
       "      <td>0.0</td>\n",
       "      <td>0.0</td>\n",
       "      <td>0.000000</td>\n",
       "      <td>0.000000e+00</td>\n",
       "      <td>0.000000</td>\n",
       "      <td>0.000000</td>\n",
       "      <td>0.000000</td>\n",
       "      <td>0.000000</td>\n",
       "      <td>0.000000</td>\n",
       "      <td>0.000000</td>\n",
       "      <td>0.000000</td>\n",
       "      <td>0.000000</td>\n",
       "      <td>0.000000</td>\n",
       "      <td>0.000000</td>\n",
       "    </tr>\n",
       "    <tr>\n",
       "      <th>2</th>\n",
       "      <td>0.0</td>\n",
       "      <td>0.0</td>\n",
       "      <td>0.000000</td>\n",
       "      <td>0.000000e+00</td>\n",
       "      <td>0.008421</td>\n",
       "      <td>0.024128</td>\n",
       "      <td>0.004125</td>\n",
       "      <td>0.004398</td>\n",
       "      <td>0.001062</td>\n",
       "      <td>0.003605</td>\n",
       "      <td>0.008622</td>\n",
       "      <td>0.002554</td>\n",
       "      <td>0.002647</td>\n",
       "      <td>0.001646</td>\n",
       "    </tr>\n",
       "    <tr>\n",
       "      <th>3</th>\n",
       "      <td>0.0</td>\n",
       "      <td>0.0</td>\n",
       "      <td>0.000000</td>\n",
       "      <td>1.294914e-07</td>\n",
       "      <td>0.023967</td>\n",
       "      <td>0.068927</td>\n",
       "      <td>0.011857</td>\n",
       "      <td>0.012623</td>\n",
       "      <td>0.003015</td>\n",
       "      <td>0.010262</td>\n",
       "      <td>0.024794</td>\n",
       "      <td>0.007338</td>\n",
       "      <td>0.007588</td>\n",
       "      <td>0.004740</td>\n",
       "    </tr>\n",
       "    <tr>\n",
       "      <th>4</th>\n",
       "      <td>0.0</td>\n",
       "      <td>0.0</td>\n",
       "      <td>0.000000</td>\n",
       "      <td>6.746027e-07</td>\n",
       "      <td>0.046086</td>\n",
       "      <td>0.132824</td>\n",
       "      <td>0.022919</td>\n",
       "      <td>0.024342</td>\n",
       "      <td>0.005745</td>\n",
       "      <td>0.019590</td>\n",
       "      <td>0.047908</td>\n",
       "      <td>0.014150</td>\n",
       "      <td>0.014620</td>\n",
       "      <td>0.009152</td>\n",
       "    </tr>\n",
       "    <tr>\n",
       "      <th>...</th>\n",
       "      <td>...</td>\n",
       "      <td>...</td>\n",
       "      <td>...</td>\n",
       "      <td>...</td>\n",
       "      <td>...</td>\n",
       "      <td>...</td>\n",
       "      <td>...</td>\n",
       "      <td>...</td>\n",
       "      <td>...</td>\n",
       "      <td>...</td>\n",
       "      <td>...</td>\n",
       "      <td>...</td>\n",
       "      <td>...</td>\n",
       "      <td>...</td>\n",
       "    </tr>\n",
       "    <tr>\n",
       "      <th>96</th>\n",
       "      <td>0.0</td>\n",
       "      <td>0.0</td>\n",
       "      <td>0.000443</td>\n",
       "      <td>9.593347e-04</td>\n",
       "      <td>0.565157</td>\n",
       "      <td>2.055384</td>\n",
       "      <td>0.767025</td>\n",
       "      <td>0.423851</td>\n",
       "      <td>0.015547</td>\n",
       "      <td>0.052983</td>\n",
       "      <td>1.003076</td>\n",
       "      <td>0.373351</td>\n",
       "      <td>0.213983</td>\n",
       "      <td>0.112753</td>\n",
       "    </tr>\n",
       "    <tr>\n",
       "      <th>97</th>\n",
       "      <td>0.0</td>\n",
       "      <td>0.0</td>\n",
       "      <td>0.000403</td>\n",
       "      <td>9.165822e-04</td>\n",
       "      <td>0.552032</td>\n",
       "      <td>1.993897</td>\n",
       "      <td>0.759533</td>\n",
       "      <td>0.410684</td>\n",
       "      <td>0.015116</td>\n",
       "      <td>0.052508</td>\n",
       "      <td>0.981109</td>\n",
       "      <td>0.364289</td>\n",
       "      <td>0.212640</td>\n",
       "      <td>0.112716</td>\n",
       "    </tr>\n",
       "    <tr>\n",
       "      <th>98</th>\n",
       "      <td>0.0</td>\n",
       "      <td>0.0</td>\n",
       "      <td>0.000368</td>\n",
       "      <td>8.191672e-04</td>\n",
       "      <td>0.554324</td>\n",
       "      <td>2.035872</td>\n",
       "      <td>0.748535</td>\n",
       "      <td>0.404285</td>\n",
       "      <td>0.012934</td>\n",
       "      <td>0.046418</td>\n",
       "      <td>0.974647</td>\n",
       "      <td>0.360192</td>\n",
       "      <td>0.210477</td>\n",
       "      <td>0.111008</td>\n",
       "    </tr>\n",
       "    <tr>\n",
       "      <th>99</th>\n",
       "      <td>0.0</td>\n",
       "      <td>0.0</td>\n",
       "      <td>0.000342</td>\n",
       "      <td>7.639877e-04</td>\n",
       "      <td>0.521486</td>\n",
       "      <td>2.037844</td>\n",
       "      <td>0.740932</td>\n",
       "      <td>0.404735</td>\n",
       "      <td>0.011076</td>\n",
       "      <td>0.042006</td>\n",
       "      <td>0.999124</td>\n",
       "      <td>0.356266</td>\n",
       "      <td>0.203468</td>\n",
       "      <td>0.110098</td>\n",
       "    </tr>\n",
       "    <tr>\n",
       "      <th>100</th>\n",
       "      <td>0.0</td>\n",
       "      <td>0.0</td>\n",
       "      <td>0.000319</td>\n",
       "      <td>7.323739e-04</td>\n",
       "      <td>0.510222</td>\n",
       "      <td>1.988938</td>\n",
       "      <td>0.724856</td>\n",
       "      <td>0.396392</td>\n",
       "      <td>0.010367</td>\n",
       "      <td>0.039449</td>\n",
       "      <td>0.978431</td>\n",
       "      <td>0.348888</td>\n",
       "      <td>0.194440</td>\n",
       "      <td>0.104009</td>\n",
       "    </tr>\n",
       "  </tbody>\n",
       "</table>\n",
       "<p>101 rows × 14 columns</p>\n",
       "</div>"
      ],
      "text/plain": [
       "     NH4  PO4   DeadMic       DeadEnz      Mon3      Mon4      Mon5      Mon6  \\\n",
       "0    0.0  0.0  0.000000  0.000000e+00  0.000000  0.000000  0.000000  0.000000   \n",
       "1    0.0  0.0  0.000000  0.000000e+00  0.000000  0.000000  0.000000  0.000000   \n",
       "2    0.0  0.0  0.000000  0.000000e+00  0.008421  0.024128  0.004125  0.004398   \n",
       "3    0.0  0.0  0.000000  1.294914e-07  0.023967  0.068927  0.011857  0.012623   \n",
       "4    0.0  0.0  0.000000  6.746027e-07  0.046086  0.132824  0.022919  0.024342   \n",
       "..   ...  ...       ...           ...       ...       ...       ...       ...   \n",
       "96   0.0  0.0  0.000443  9.593347e-04  0.565157  2.055384  0.767025  0.423851   \n",
       "97   0.0  0.0  0.000403  9.165822e-04  0.552032  1.993897  0.759533  0.410684   \n",
       "98   0.0  0.0  0.000368  8.191672e-04  0.554324  2.035872  0.748535  0.404285   \n",
       "99   0.0  0.0  0.000342  7.639877e-04  0.521486  2.037844  0.740932  0.404735   \n",
       "100  0.0  0.0  0.000319  7.323739e-04  0.510222  1.988938  0.724856  0.396392   \n",
       "\n",
       "         Mon7      Mon8      Mon9     Mon10     Mon11     Mon12  \n",
       "0    0.000000  0.000000  0.000000  0.000000  0.000000  0.000000  \n",
       "1    0.000000  0.000000  0.000000  0.000000  0.000000  0.000000  \n",
       "2    0.001062  0.003605  0.008622  0.002554  0.002647  0.001646  \n",
       "3    0.003015  0.010262  0.024794  0.007338  0.007588  0.004740  \n",
       "4    0.005745  0.019590  0.047908  0.014150  0.014620  0.009152  \n",
       "..        ...       ...       ...       ...       ...       ...  \n",
       "96   0.015547  0.052983  1.003076  0.373351  0.213983  0.112753  \n",
       "97   0.015116  0.052508  0.981109  0.364289  0.212640  0.112716  \n",
       "98   0.012934  0.046418  0.974647  0.360192  0.210477  0.111008  \n",
       "99   0.011076  0.042006  0.999124  0.356266  0.203468  0.110098  \n",
       "100  0.010367  0.039449  0.978431  0.348888  0.194440  0.104009  \n",
       "\n",
       "[101 rows x 14 columns]"
      ]
     },
     "execution_count": 8,
     "metadata": {},
     "output_type": "execute_result"
    }
   ],
   "source": [
    "test[int(0)].MonomersSeries.T"
   ]
  },
  {
   "cell_type": "code",
   "execution_count": 14,
   "id": "499bd2b5-4ec5-4a6b-9a04-8da57ec1ea6b",
   "metadata": {},
   "outputs": [
    {
     "data": {
      "text/plain": [
       "0       1.900000\n",
       "1       1.772406\n",
       "2       1.667830\n",
       "3       1.583137\n",
       "4       1.513953\n",
       "          ...   \n",
       "1091    0.502543\n",
       "1092    0.483529\n",
       "1093    0.473973\n",
       "1094    0.487006\n",
       "1095    0.521431\n",
       "Length: 1096, dtype: float64"
      ]
     },
     "execution_count": 14,
     "metadata": {},
     "output_type": "execute_result"
    }
   ],
   "source": [
    "test[int(0)].PO4Series"
   ]
  },
  {
   "cell_type": "code",
   "execution_count": null,
   "id": "bbb1584d-1f8d-4747-bc69-37a411e4db10",
   "metadata": {},
   "outputs": [],
   "source": [
    "test[int(1)].MonomersSeries.T"
   ]
  },
  {
   "cell_type": "code",
   "execution_count": null,
   "id": "8f6256cb-b2c4-4836-8055-1983819891b4",
   "metadata": {},
   "outputs": [],
   "source": [
    "test[int(0)].MonomersSeries.T[\"Mon3\"]"
   ]
  },
  {
   "cell_type": "code",
   "execution_count": null,
   "id": "75ee9ffd-e0d7-469d-9fd6-99c6767f40ad",
   "metadata": {},
   "outputs": [],
   "source": [
    "test[int(0)].MonomersSeries.T[\"Mon3\"]"
   ]
  }
 ],
 "metadata": {
  "kernelspec": {
   "display_name": "Python 3 (ipykernel)",
   "language": "python",
   "name": "python3"
  },
  "language_info": {
   "codemirror_mode": {
    "name": "ipython",
    "version": 3
   },
   "file_extension": ".py",
   "mimetype": "text/x-python",
   "name": "python",
   "nbconvert_exporter": "python",
   "pygments_lexer": "ipython3",
   "version": "3.12.1"
  }
 },
 "nbformat": 4,
 "nbformat_minor": 5
}
